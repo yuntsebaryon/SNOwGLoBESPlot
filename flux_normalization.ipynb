{
 "cells": [
  {
   "cell_type": "code",
   "execution_count": 1,
   "metadata": {},
   "outputs": [],
   "source": [
    "# import necessary package\n",
    "import numpy as np\n",
    "import matplotlib.pyplot as plt"
   ]
  },
  {
   "cell_type": "code",
   "execution_count": 2,
   "metadata": {},
   "outputs": [],
   "source": [
    "# set up a few variables\n",
    "inDir = '/Users/yuntse/data/supernova/flux/rf5.78'\n",
    "outDir = '/Users/yuntse/data/supernova/flux/rf5.78_normalize'\n",
    "fFactor = inDir + '/interpolate.txt'"
   ]
  },
  {
   "cell_type": "code",
   "execution_count": 3,
   "metadata": {},
   "outputs": [],
   "source": [
    "# create the output directory if it doesn't exist\n",
    "import os\n",
    "if not os.path.exists(outDir):\n",
    "    os.mkdir(outDir)"
   ]
  },
  {
   "cell_type": "code",
   "execution_count": 4,
   "metadata": {},
   "outputs": [],
   "source": [
    "# import the normalization factor provided by Payel\n",
    "normalize_data = np.loadtxt( fFactor )"
   ]
  },
  {
   "cell_type": "code",
   "execution_count": 5,
   "metadata": {},
   "outputs": [
    {
     "data": {
      "text/plain": [
       "array([[1.2   , 2.4791],\n",
       "       [1.22  , 2.457 ],\n",
       "       [1.24  , 2.4349],\n",
       "       [1.26  , 2.4129],\n",
       "       [1.28  , 2.3908],\n",
       "       [1.3   , 2.3687],\n",
       "       [1.32  , 2.3466],\n",
       "       [1.34  , 2.3245],\n",
       "       [1.36  , 2.3024],\n",
       "       [1.38  , 2.2803],\n",
       "       [1.4   , 2.2582],\n",
       "       [1.42  , 2.2361],\n",
       "       [1.44  , 2.2141],\n",
       "       [1.46  , 2.192 ],\n",
       "       [1.48  , 2.1699],\n",
       "       [1.5   , 2.1478],\n",
       "       [1.52  , 2.1257],\n",
       "       [1.54  , 2.1036],\n",
       "       [1.56  , 2.0815],\n",
       "       [1.58  , 2.0594],\n",
       "       [1.6   , 2.0373],\n",
       "       [1.62  , 2.0153],\n",
       "       [1.64  , 1.9932],\n",
       "       [1.66  , 1.9711],\n",
       "       [1.68  , 1.949 ],\n",
       "       [1.7   , 1.9269],\n",
       "       [1.72  , 1.9048],\n",
       "       [1.74  , 1.8827],\n",
       "       [1.76  , 1.8606],\n",
       "       [1.78  , 1.8386],\n",
       "       [1.8   , 1.8165],\n",
       "       [1.82  , 1.7944],\n",
       "       [1.84  , 1.7723],\n",
       "       [1.86  , 1.7502],\n",
       "       [1.88  , 1.7281],\n",
       "       [1.9   , 1.706 ],\n",
       "       [1.92  , 1.6839],\n",
       "       [1.94  , 1.6618],\n",
       "       [1.96  , 1.6398],\n",
       "       [1.98  , 1.6177],\n",
       "       [2.    , 1.5976],\n",
       "       [2.02  , 1.5855],\n",
       "       [2.04  , 1.5735],\n",
       "       [2.06  , 1.5614],\n",
       "       [2.08  , 1.5494],\n",
       "       [2.1   , 1.5373],\n",
       "       [2.12  , 1.5253],\n",
       "       [2.14  , 1.5133],\n",
       "       [2.16  , 1.5012],\n",
       "       [2.18  , 1.4892],\n",
       "       [2.2   , 1.4771],\n",
       "       [2.22  , 1.4651],\n",
       "       [2.24  , 1.453 ],\n",
       "       [2.26  , 1.441 ],\n",
       "       [2.28  , 1.4289],\n",
       "       [2.3   , 1.4169],\n",
       "       [2.32  , 1.4048],\n",
       "       [2.34  , 1.3928],\n",
       "       [2.36  , 1.3807],\n",
       "       [2.38  , 1.3687],\n",
       "       [2.4   , 1.3566],\n",
       "       [2.42  , 1.3446],\n",
       "       [2.44  , 1.3325],\n",
       "       [2.46  , 1.3205],\n",
       "       [2.48  , 1.3084],\n",
       "       [2.5   , 1.2964],\n",
       "       [2.52  , 1.2843],\n",
       "       [2.54  , 1.2723],\n",
       "       [2.56  , 1.2602],\n",
       "       [2.58  , 1.2482],\n",
       "       [2.6   , 1.2361],\n",
       "       [2.62  , 1.2241],\n",
       "       [2.64  , 1.212 ],\n",
       "       [2.66  , 1.2   ],\n",
       "       [2.68  , 1.188 ],\n",
       "       [2.7   , 1.1759],\n",
       "       [2.72  , 1.1639],\n",
       "       [2.74  , 1.1518],\n",
       "       [2.76  , 1.1398],\n",
       "       [2.78  , 1.1277],\n",
       "       [2.8   , 1.1157],\n",
       "       [2.82  , 1.1036],\n",
       "       [2.84  , 1.0916],\n",
       "       [2.86  , 1.0795],\n",
       "       [2.88  , 1.0675],\n",
       "       [2.9   , 1.0554],\n",
       "       [2.92  , 1.0434],\n",
       "       [2.94  , 1.0313],\n",
       "       [2.96  , 1.0193],\n",
       "       [2.98  , 1.0072],\n",
       "       [3.    , 0.9976],\n",
       "       [3.02  , 0.9916],\n",
       "       [3.04  , 0.9855],\n",
       "       [3.06  , 0.9795],\n",
       "       [3.08  , 0.9735],\n",
       "       [3.1   , 0.9675],\n",
       "       [3.12  , 0.9614],\n",
       "       [3.14  , 0.9554],\n",
       "       [3.16  , 0.9494],\n",
       "       [3.18  , 0.9434],\n",
       "       [3.2   , 0.9373],\n",
       "       [3.22  , 0.9313],\n",
       "       [3.24  , 0.9253],\n",
       "       [3.26  , 0.9193],\n",
       "       [3.28  , 0.9133],\n",
       "       [3.3   , 0.9072],\n",
       "       [3.32  , 0.9012],\n",
       "       [3.34  , 0.8952],\n",
       "       [3.36  , 0.8892],\n",
       "       [3.38  , 0.8831],\n",
       "       [3.4   , 0.8771],\n",
       "       [3.42  , 0.8711],\n",
       "       [3.44  , 0.8651],\n",
       "       [3.46  , 0.859 ],\n",
       "       [3.48  , 0.853 ],\n",
       "       [3.5   , 0.847 ],\n",
       "       [3.52  , 0.841 ],\n",
       "       [3.54  , 0.8349],\n",
       "       [3.56  , 0.8289],\n",
       "       [3.58  , 0.8229],\n",
       "       [3.6   , 0.8169],\n",
       "       [3.62  , 0.8108],\n",
       "       [3.64  , 0.8048],\n",
       "       [3.66  , 0.7988],\n",
       "       [3.68  , 0.7928],\n",
       "       [3.7   , 0.7867],\n",
       "       [3.72  , 0.7807],\n",
       "       [3.74  , 0.7747],\n",
       "       [3.76  , 0.7687],\n",
       "       [3.78  , 0.7627],\n",
       "       [3.8   , 0.7566],\n",
       "       [3.82  , 0.7506],\n",
       "       [3.84  , 0.7446],\n",
       "       [3.86  , 0.7386],\n",
       "       [3.88  , 0.7325],\n",
       "       [3.9   , 0.7265],\n",
       "       [3.92  , 0.7205],\n",
       "       [3.94  , 0.7145],\n",
       "       [3.96  , 0.7084],\n",
       "       [3.98  , 0.7024],\n",
       "       [4.    , 0.6964],\n",
       "       [4.02  , 0.6904],\n",
       "       [4.04  , 0.6843],\n",
       "       [4.06  , 0.6783],\n",
       "       [4.08  , 0.6723],\n",
       "       [4.1   , 0.6663],\n",
       "       [4.12  , 0.6602],\n",
       "       [4.14  , 0.6542],\n",
       "       [4.16  , 0.6482],\n",
       "       [4.18  , 0.6422],\n",
       "       [4.2   , 0.6361],\n",
       "       [4.22  , 0.6301],\n",
       "       [4.24  , 0.6241],\n",
       "       [4.26  , 0.6181],\n",
       "       [4.28  , 0.612 ],\n",
       "       [4.3   , 0.606 ],\n",
       "       [4.32  , 0.6   ],\n",
       "       [4.34  , 0.594 ],\n",
       "       [4.36  , 0.588 ],\n",
       "       [4.38  , 0.5819],\n",
       "       [4.4   , 0.5759],\n",
       "       [4.42  , 0.5699],\n",
       "       [4.44  , 0.5639],\n",
       "       [4.46  , 0.5578],\n",
       "       [4.48  , 0.5518],\n",
       "       [4.5   , 0.5458],\n",
       "       [4.52  , 0.5398],\n",
       "       [4.54  , 0.5337],\n",
       "       [4.56  , 0.5277],\n",
       "       [4.58  , 0.5217],\n",
       "       [4.6   , 0.5157],\n",
       "       [4.62  , 0.5096],\n",
       "       [4.64  , 0.5036],\n",
       "       [4.66  , 0.4976],\n",
       "       [4.68  , 0.4916],\n",
       "       [4.7   , 0.4855],\n",
       "       [4.72  , 0.4795],\n",
       "       [4.74  , 0.4735],\n",
       "       [4.76  , 0.4675],\n",
       "       [4.78  , 0.4614],\n",
       "       [4.8   , 0.4554],\n",
       "       [4.82  , 0.4494],\n",
       "       [4.84  , 0.4434],\n",
       "       [4.86  , 0.4373],\n",
       "       [4.88  , 0.4313],\n",
       "       [4.9   , 0.4253],\n",
       "       [4.92  , 0.4193],\n",
       "       [4.94  , 0.4133],\n",
       "       [4.96  , 0.4072],\n",
       "       [4.98  , 0.4012],\n",
       "       [5.    , 0.3984],\n",
       "       [5.02  , 0.3964],\n",
       "       [5.04  , 0.3944],\n",
       "       [5.06  , 0.3924],\n",
       "       [5.08  , 0.3904],\n",
       "       [5.1   , 0.3884],\n",
       "       [5.12  , 0.3863],\n",
       "       [5.14  , 0.3843],\n",
       "       [5.16  , 0.3823],\n",
       "       [5.18  , 0.3803],\n",
       "       [5.2   , 0.3783],\n",
       "       [5.22  , 0.3763],\n",
       "       [5.24  , 0.3743],\n",
       "       [5.26  , 0.3723],\n",
       "       [5.28  , 0.3703],\n",
       "       [5.3   , 0.3683],\n",
       "       [5.32  , 0.3663],\n",
       "       [5.34  , 0.3643],\n",
       "       [5.36  , 0.3622],\n",
       "       [5.38  , 0.3602],\n",
       "       [5.4   , 0.3582],\n",
       "       [5.42  , 0.3562],\n",
       "       [5.44  , 0.3542],\n",
       "       [5.46  , 0.3522],\n",
       "       [5.48  , 0.3502],\n",
       "       [5.5   , 0.3482],\n",
       "       [5.52  , 0.3462],\n",
       "       [5.54  , 0.3442],\n",
       "       [5.56  , 0.3422],\n",
       "       [5.58  , 0.3402],\n",
       "       [5.6   , 0.3382],\n",
       "       [5.62  , 0.3361],\n",
       "       [5.64  , 0.3341],\n",
       "       [5.66  , 0.3321],\n",
       "       [5.68  , 0.3301],\n",
       "       [5.7   , 0.3281],\n",
       "       [5.72  , 0.3261],\n",
       "       [5.74  , 0.3241],\n",
       "       [5.76  , 0.3221],\n",
       "       [5.78  , 0.3201],\n",
       "       [5.8   , 0.3181],\n",
       "       [5.82  , 0.3161],\n",
       "       [5.84  , 0.3141],\n",
       "       [5.86  , 0.312 ],\n",
       "       [5.88  , 0.31  ],\n",
       "       [5.9   , 0.308 ],\n",
       "       [5.92  , 0.306 ],\n",
       "       [5.94  , 0.304 ],\n",
       "       [5.96  , 0.302 ],\n",
       "       [5.98  , 0.3   ]])"
      ]
     },
     "execution_count": 5,
     "metadata": {},
     "output_type": "execute_result"
    }
   ],
   "source": [
    "# You can view the normalization factor loaded in this notebook\n",
    "# Each row vector contains the information: (time, normalization)\n",
    "normalize_data"
   ]
  },
  {
   "cell_type": "code",
   "execution_count": 6,
   "metadata": {},
   "outputs": [
    {
     "data": {
      "image/png": "[encoded data removed]",
      "text/plain": [
       "<Figure size 432x288 with 1 Axes>"
      ]
     },
     "metadata": {
      "needs_background": "light"
     },
     "output_type": "display_data"
    }
   ],
   "source": [
    "# Plot the normalization factor versus time\n",
    "plt.plot(normalize_data[:,0], normalize_data[:,1])\n",
    "plt.xlabel('time [ms]')\n",
    "plt.ylabel('normalization')\n",
    "plt.show()"
   ]
  },
  {
   "cell_type": "code",
   "execution_count": 7,
   "metadata": {},
   "outputs": [],
   "source": [
    "# Setup a script to load the non-normalized flux in the 'sn_flux' folder and times the normalization factor\n",
    "flux = np.loadtxt(inDir + '/rf' + str(normalize_data[0,0]) + '.dat')"
   ]
  },
  {
   "cell_type": "code",
   "execution_count": 8,
   "metadata": {},
   "outputs": [
    {
     "data": {
      "image/png": "[encoded data removed]",
      "text/plain": [
       "<Figure size 432x288 with 1 Axes>"
      ]
     },
     "metadata": {
      "needs_background": "light"
     },
     "output_type": "display_data"
    }
   ],
   "source": [
    "plt.plot(flux[:,0], normalize_data[0,1]*flux[:,1], label = 'normalized')\n",
    "plt.plot(flux[:,0], flux[:,1], label = 'non-normalized')\n",
    "plt.xlabel('Energy [GeV]')\n",
    "plt.ylabel('flux')\n",
    "plt.title('rf1.2')\n",
    "plt.legend()\n",
    "plt.show()"
   ]
  },
  {
   "cell_type": "code",
   "execution_count": 9,
   "metadata": {},
   "outputs": [],
   "source": [
    "# Writing a batch script to correct all the flux with proper normalization factor and save it\n",
    "for i in range(len(normalize_data)):\n",
    "    # load the non-normalized flux rfx.x.dat in the 'flux' folder\n",
    "    # x.x is the time stamp of the flux given in the first column of the normalize_data\n",
    "    sn_flux = np.loadtxt(inDir + '/rf' + str(normalize_data[i,0]) + '.dat')\n",
    "\n",
    "    # Times the normalization factor to the flux\n",
    "    sn_flux[:,1:] = sn_flux[:,1:]*normalize_data[i,1]\n",
    "    \n",
    "    # Save the corrected flux to the new folder 'corrected_flux'\n",
    "    np.savetxt(outDir + '/rf' + str(normalize_data[i,0]) + '_normalized.dat', sn_flux, fmt='%.5e')\n",
    "    \n",
    "    # If the time stamp x.x > 5.98, there is no corresponding flux to be normalized,\n",
    "    # we should break the for-loop\n",
    "    # Some comment: Write down the if-else block to break the for-loop in the bottom of this script\n",
    "    # is not a quite good in my sense. One should move this if-else block to the top of this script.\n",
    "    # You should try to modify this if-else block and move it to the top.\n",
    "    if normalize_data[i,0]==5.98:\n",
    "        break\n",
    "    else:\n",
    "        pass\n",
    "    \n",
    "# After running this script, you should find the fluxes that are needed normalizations\n",
    "# in the 'normalized_flux' folder"
   ]
  },
  {
   "cell_type": "code",
   "execution_count": 10,
   "metadata": {},
   "outputs": [],
   "source": [
    "# Check our normalized flux\n",
    "norm_sn_flux = np.loadtxt(outDir + '/rf1.2_normalized.dat')"
   ]
  },
  {
   "cell_type": "code",
   "execution_count": 11,
   "metadata": {},
   "outputs": [
    {
     "data": {
      "image/png": "[encoded data removed]",
      "text/plain": [
       "<Figure size 432x288 with 1 Axes>"
      ]
     },
     "metadata": {
      "needs_background": "light"
     },
     "output_type": "display_data"
    }
   ],
   "source": [
    "# Plot the result, this figure must be the same as the last figure\n",
    "plt.plot(flux[:,0], norm_sn_flux[:,1], label = 'normalized')\n",
    "plt.plot(flux[:,0], flux[:,1], label = 'non-normalized')\n",
    "plt.xlabel('Energy [GeV]')\n",
    "plt.ylabel('flux')\n",
    "plt.title('rf1.2')\n",
    "plt.legend()\n",
    "plt.show()"
   ]
  },
  {
   "cell_type": "code",
   "execution_count": 12,
   "metadata": {},
   "outputs": [],
   "source": [
    "# # Copy the files which don't have to be normalized\n",
    "# # List all the input files\n",
    "# list = os.listdir(inDir)"
   ]
  },
  {
   "cell_type": "code",
   "execution_count": 13,
   "metadata": {},
   "outputs": [],
   "source": [
    "# for f in list:\n",
    "#     # if the file is the normalization factor file, skip it \n",
    "#     # (because I put this file in the same directory as the other flux files)\n",
    "#     if f[-3:] == 'txt':\n",
    "#         continue\n",
    "#     # if not, it is a flux file.  Check if the time slice is in the normalization factor file\n",
    "#     # if the time slice doesn't exist in the normalization factor file, copy the original file to the new directory\n",
    "#     if not f[2:-4] in str(normalize_data[:,0]):\n",
    "#         srcFile = inDir + '/' + f\n",
    "#         dstFile = outDir + '/' + f[:-4] + '_normalized.dat'\n",
    "#         command = 'cp ' + srcFile + ' ' + dstFile\n",
    "#         # print(command)\n",
    "#         os.system(command)"
   ]
  },
  {
   "cell_type": "code",
   "execution_count": 14,
   "metadata": {},
   "outputs": [],
   "source": [
    "# # Sanity check\n",
    "# flux2 = np.loadtxt(inDir + '/rf1.28.dat')\n",
    "# norm_sn_flux2 = np.loadtxt(outDir + '/rf1.28_normalized.dat')"
   ]
  },
  {
   "cell_type": "code",
   "execution_count": 15,
   "metadata": {},
   "outputs": [],
   "source": [
    "# # Plot the result, the two curves here should be identical since one is a copy of the other\n",
    "# plt.plot(flux2[:,0], norm_sn_flux2[:,1], label = 'normalized')\n",
    "# plt.plot(flux2[:,0], flux2[:,1], label = 'non-normalized')\n",
    "# plt.xlabel('Energy [GeV]')\n",
    "# plt.ylabel('flux')\n",
    "# plt.title('rf1.28')\n",
    "# plt.legend()\n",
    "# plt.show()"
   ]
  },
  {
   "cell_type": "code",
   "execution_count": 23,
   "metadata": {},
   "outputs": [
    {
     "data": {
      "image/png": "[encoded data removed]",
      "text/plain": [
       "<Figure size 432x288 with 1 Axes>"
      ]
     },
     "metadata": {
      "needs_background": "light"
     },
     "output_type": "display_data"
    }
   ],
   "source": [
    "# Plot only the result\n",
    "\n",
    "plt.rc('xtick',labelsize=20)\n",
    "plt.rc('ytick',labelsize=20)\n",
    "plt.plot(flux[:,0], norm_sn_flux[:,1], label = 'normalized', linewidth = 2)\n",
    "plt.xlabel('Energy [GeV]', fontsize=20)\n",
    "plt.ylabel('Number of Neutrino', fontsize=20)\n",
    "# plt.title('rf1.2')\n",
    "# plt.legend()\n",
    "# plt.show()\n",
    "plt.tight_layout()\n",
    "plt.savefig('rf1.2.pdf')"
   ]
  },
  {
   "cell_type": "code",
   "execution_count": null,
   "metadata": {},
   "outputs": [],
   "source": []
  }
 ],
 "metadata": {
  "kernelspec": {
   "display_name": "Python 3",
   "language": "python",
   "name": "python3"
  },
  "language_info": {
   "codemirror_mode": {
    "name": "ipython",
    "version": 3
   },
   "file_extension": ".py",
   "mimetype": "text/x-python",
   "name": "python",
   "nbconvert_exporter": "python",
   "pygments_lexer": "ipython3",
   "version": "3.7.6"
  }
 },
 "nbformat": 4,
 "nbformat_minor": 2
}
