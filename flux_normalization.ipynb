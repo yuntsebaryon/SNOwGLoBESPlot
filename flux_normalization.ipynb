{
 "cells": [
  {
   "cell_type": "code",
   "execution_count": 1,
   "metadata": {},
   "outputs": [],
   "source": [
    "# import necessary package\n",
    "import numpy as np\n",
    "import matplotlib.pyplot as plt"
   ]
  },
  {
   "cell_type": "code",
   "execution_count": 2,
   "metadata": {},
   "outputs": [],
   "source": [
    "# set up a few variables\n",
    "inDir = '/Users/yuntse/data/supernova/flux/rf5.78'\n",
    "outDir = '/Users/yuntse/data/supernova/flux/rf5.78_normalize'\n",
    "fFactor = inDir + '/iinterpolation-data.txt'"
   ]
  },
  {
   "cell_type": "code",
   "execution_count": 3,
   "metadata": {},
   "outputs": [],
   "source": [
    "# create the output directory if it doesn't exist\n",
    "import os\n",
    "if not os.path.exists(outDir):\n",
    "    os.mkdir(outDir)"
   ]
  },
  {
   "cell_type": "code",
   "execution_count": 4,
   "metadata": {},
   "outputs": [],
   "source": [
    "# import the normalization factor provided by Payel\n",
    "normalize_data = np.loadtxt( fFactor )"
   ]
  },
  {
   "cell_type": "code",
   "execution_count": 5,
   "metadata": {},
   "outputs": [
    {
     "data": {
      "text/plain": [
       "array([[1.8    , 1.21739],\n",
       "       [1.82   , 1.20435],\n",
       "       [1.84   , 1.1913 ],\n",
       "       [1.86   , 1.17826],\n",
       "       [1.88   , 1.16522],\n",
       "       [1.9    , 1.15217],\n",
       "       [1.92   , 1.13913],\n",
       "       [1.94   , 1.12609],\n",
       "       [1.96   , 1.11304],\n",
       "       [1.98   , 1.1    ],\n",
       "       [2.     , 1.08696],\n",
       "       [2.02   , 1.07826],\n",
       "       [2.04   , 1.06957],\n",
       "       [2.06   , 1.06087],\n",
       "       [2.08   , 1.05217],\n",
       "       [2.1    , 1.04348],\n",
       "       [2.12   , 1.03478],\n",
       "       [2.14   , 1.02609],\n",
       "       [2.16   , 1.01739],\n",
       "       [2.18   , 1.0087 ],\n",
       "       [2.2    , 1.     ],\n",
       "       [2.22   , 0.9913 ],\n",
       "       [2.24   , 0.98261],\n",
       "       [2.26   , 0.97391],\n",
       "       [2.28   , 0.96522],\n",
       "       [2.3    , 0.95652],\n",
       "       [2.32   , 0.94783],\n",
       "       [2.34   , 0.93913],\n",
       "       [2.36   , 0.93043],\n",
       "       [2.38   , 0.92174],\n",
       "       [2.4    , 0.91304],\n",
       "       [2.42   , 0.90435],\n",
       "       [2.44   , 0.89565],\n",
       "       [2.46   , 0.88696],\n",
       "       [2.48   , 0.87826],\n",
       "       [2.5    , 0.86957],\n",
       "       [2.52   , 0.86087],\n",
       "       [2.54   , 0.85217],\n",
       "       [2.56   , 0.84348],\n",
       "       [2.58   , 0.83478],\n",
       "       [2.6    , 0.82609],\n",
       "       [2.62   , 0.81957],\n",
       "       [2.64   , 0.81304],\n",
       "       [2.66   , 0.80652],\n",
       "       [2.68   , 0.8    ],\n",
       "       [2.7    , 0.79348],\n",
       "       [2.72   , 0.78696],\n",
       "       [2.74   , 0.78043],\n",
       "       [2.76   , 0.77391],\n",
       "       [2.78   , 0.76739],\n",
       "       [2.8    , 0.76087],\n",
       "       [2.82   , 0.75652],\n",
       "       [2.84   , 0.75217],\n",
       "       [2.86   , 0.74783],\n",
       "       [2.88   , 0.74348],\n",
       "       [2.9    , 0.73913],\n",
       "       [2.92   , 0.73478],\n",
       "       [2.94   , 0.73043],\n",
       "       [2.96   , 0.72609],\n",
       "       [2.98   , 0.72174],\n",
       "       [3.     , 0.71739],\n",
       "       [3.02   , 0.71304],\n",
       "       [3.04   , 0.7087 ],\n",
       "       [3.06   , 0.70435],\n",
       "       [3.08   , 0.7    ],\n",
       "       [3.1    , 0.69565],\n",
       "       [3.12   , 0.6913 ],\n",
       "       [3.14   , 0.68696],\n",
       "       [3.16   , 0.68261],\n",
       "       [3.18   , 0.67826],\n",
       "       [3.2    , 0.67391],\n",
       "       [3.22   , 0.66957],\n",
       "       [3.24   , 0.66522],\n",
       "       [3.26   , 0.66087],\n",
       "       [3.28   , 0.65652],\n",
       "       [3.3    , 0.65217],\n",
       "       [3.32   , 0.64783],\n",
       "       [3.34   , 0.64348],\n",
       "       [3.36   , 0.63913],\n",
       "       [3.38   , 0.63478],\n",
       "       [3.4    , 0.63043],\n",
       "       [3.42   , 0.62717],\n",
       "       [3.44   , 0.62391],\n",
       "       [3.46   , 0.62065],\n",
       "       [3.48   , 0.61739],\n",
       "       [3.5    , 0.61413],\n",
       "       [3.52   , 0.61087],\n",
       "       [3.54   , 0.60761],\n",
       "       [3.56   , 0.60435],\n",
       "       [3.58   , 0.60109],\n",
       "       [3.6    , 0.59783],\n",
       "       [3.62   , 0.59457],\n",
       "       [3.64   , 0.5913 ],\n",
       "       [3.66   , 0.58804],\n",
       "       [3.68   , 0.58478],\n",
       "       [3.7    , 0.58152],\n",
       "       [3.72   , 0.57826],\n",
       "       [3.74   , 0.575  ],\n",
       "       [3.76   , 0.57174],\n",
       "       [3.78   , 0.56848],\n",
       "       [3.8    , 0.56522],\n",
       "       [3.82   , 0.56304],\n",
       "       [3.84   , 0.56087],\n",
       "       [3.86   , 0.5587 ],\n",
       "       [3.88   , 0.55652],\n",
       "       [3.9    , 0.55435],\n",
       "       [3.92   , 0.55217],\n",
       "       [3.94   , 0.55   ],\n",
       "       [3.96   , 0.54783],\n",
       "       [3.98   , 0.54565],\n",
       "       [4.     , 0.54348],\n",
       "       [4.02   , 0.5413 ],\n",
       "       [4.04   , 0.53913],\n",
       "       [4.06   , 0.53696],\n",
       "       [4.08   , 0.53478],\n",
       "       [4.1    , 0.53261],\n",
       "       [4.12   , 0.53043],\n",
       "       [4.14   , 0.52826],\n",
       "       [4.16   , 0.52609],\n",
       "       [4.18   , 0.52391],\n",
       "       [4.2    , 0.52174],\n",
       "       [4.22   , 0.51957],\n",
       "       [4.24   , 0.51739],\n",
       "       [4.26   , 0.51522],\n",
       "       [4.28   , 0.51304],\n",
       "       [4.3    , 0.51087],\n",
       "       [4.32   , 0.5087 ],\n",
       "       [4.34   , 0.50652],\n",
       "       [4.36   , 0.50435],\n",
       "       [4.38   , 0.50217],\n",
       "       [4.4    , 0.5    ],\n",
       "       [4.42   , 0.49783],\n",
       "       [4.44   , 0.49565],\n",
       "       [4.46   , 0.49348],\n",
       "       [4.48   , 0.4913 ],\n",
       "       [4.5    , 0.48913],\n",
       "       [4.52   , 0.48696],\n",
       "       [4.54   , 0.48478],\n",
       "       [4.56   , 0.48261],\n",
       "       [4.58   , 0.48043],\n",
       "       [4.6    , 0.47826],\n",
       "       [4.62   , 0.47609],\n",
       "       [4.64   , 0.47391],\n",
       "       [4.66   , 0.47174],\n",
       "       [4.68   , 0.46957],\n",
       "       [4.7    , 0.46739],\n",
       "       [4.72   , 0.46522],\n",
       "       [4.74   , 0.46304],\n",
       "       [4.76   , 0.46087],\n",
       "       [4.78   , 0.4587 ],\n",
       "       [4.8    , 0.45652],\n",
       "       [4.82   , 0.45435],\n",
       "       [4.84   , 0.45217],\n",
       "       [4.86   , 0.45   ],\n",
       "       [4.88   , 0.44783],\n",
       "       [4.9    , 0.44565],\n",
       "       [4.92   , 0.44348],\n",
       "       [4.94   , 0.4413 ],\n",
       "       [4.96   , 0.43913],\n",
       "       [4.98   , 0.43696],\n",
       "       [5.     , 0.43478],\n",
       "       [5.02   , 0.43261],\n",
       "       [5.04   , 0.43043],\n",
       "       [5.06   , 0.42826],\n",
       "       [5.08   , 0.42609],\n",
       "       [5.1    , 0.42391],\n",
       "       [5.12   , 0.42174],\n",
       "       [5.14   , 0.41957],\n",
       "       [5.16   , 0.41739],\n",
       "       [5.18   , 0.41522],\n",
       "       [5.2    , 0.41304],\n",
       "       [5.22   , 0.41087],\n",
       "       [5.24   , 0.4087 ],\n",
       "       [5.26   , 0.40652],\n",
       "       [5.28   , 0.40435],\n",
       "       [5.3    , 0.40217],\n",
       "       [5.32   , 0.4    ],\n",
       "       [5.34   , 0.39783],\n",
       "       [5.36   , 0.39565],\n",
       "       [5.38   , 0.39348],\n",
       "       [5.4    , 0.3913 ],\n",
       "       [5.42   , 0.38913],\n",
       "       [5.44   , 0.38696],\n",
       "       [5.46   , 0.38478],\n",
       "       [5.48   , 0.38261],\n",
       "       [5.5    , 0.38043],\n",
       "       [5.52   , 0.37826],\n",
       "       [5.54   , 0.37609],\n",
       "       [5.56   , 0.37391],\n",
       "       [5.58   , 0.37174],\n",
       "       [5.6    , 0.36957],\n",
       "       [5.62   , 0.36739],\n",
       "       [5.64   , 0.36522],\n",
       "       [5.66   , 0.36304],\n",
       "       [5.68   , 0.36087],\n",
       "       [5.7    , 0.3587 ],\n",
       "       [5.72   , 0.35652],\n",
       "       [5.74   , 0.35435],\n",
       "       [5.76   , 0.35217],\n",
       "       [5.78   , 0.35   ],\n",
       "       [5.8    , 0.34783],\n",
       "       [5.82   , 0.34565],\n",
       "       [5.84   , 0.34348],\n",
       "       [5.86   , 0.3413 ],\n",
       "       [5.88   , 0.33913],\n",
       "       [5.9    , 0.33696],\n",
       "       [5.92   , 0.33478],\n",
       "       [5.94   , 0.33261],\n",
       "       [5.96   , 0.33043],\n",
       "       [5.98   , 0.32826],\n",
       "       [6.     , 0.32609],\n",
       "       [6.02   , 0.32391],\n",
       "       [6.04   , 0.32174],\n",
       "       [6.06   , 0.31957],\n",
       "       [6.08   , 0.31739],\n",
       "       [6.1    , 0.31522],\n",
       "       [6.12   , 0.31304],\n",
       "       [6.14   , 0.31087],\n",
       "       [6.16   , 0.3087 ],\n",
       "       [6.18   , 0.30652],\n",
       "       [6.2    , 0.30435],\n",
       "       [6.22   , 0.30217],\n",
       "       [6.24   , 0.3    ],\n",
       "       [6.26   , 0.29783],\n",
       "       [6.28   , 0.29565],\n",
       "       [6.3    , 0.29348],\n",
       "       [6.32   , 0.2913 ],\n",
       "       [6.34   , 0.28913],\n",
       "       [6.36   , 0.28696],\n",
       "       [6.38   , 0.28478],\n",
       "       [6.4    , 0.28261],\n",
       "       [6.42   , 0.28043],\n",
       "       [6.44   , 0.27826],\n",
       "       [6.46   , 0.27609],\n",
       "       [6.48   , 0.27391],\n",
       "       [6.5    , 0.27174],\n",
       "       [6.52   , 0.26957],\n",
       "       [6.54   , 0.26739],\n",
       "       [6.56   , 0.26522],\n",
       "       [6.58   , 0.26304],\n",
       "       [6.6    , 0.26087],\n",
       "       [6.62   , 0.2587 ],\n",
       "       [6.64   , 0.25652],\n",
       "       [6.66   , 0.25435],\n",
       "       [6.68   , 0.25217],\n",
       "       [6.7    , 0.25   ],\n",
       "       [6.72   , 0.24783],\n",
       "       [6.74   , 0.24565],\n",
       "       [6.76   , 0.24348],\n",
       "       [6.78   , 0.2413 ],\n",
       "       [6.8    , 0.23913]])"
      ]
     },
     "execution_count": 5,
     "metadata": {},
     "output_type": "execute_result"
    }
   ],
   "source": [
    "# You can view the normalization factor loaded in this notebook\n",
    "# Each row vector contains the information: (time, normalization)\n",
    "normalize_data"
   ]
  },
  {
   "cell_type": "code",
   "execution_count": 6,
   "metadata": {},
   "outputs": [
    {
     "data": {
      "image/png": "[encoded data removed]",
      "text/plain": [
       "<Figure size 432x288 with 1 Axes>"
      ]
     },
     "metadata": {
      "needs_background": "light"
     },
     "output_type": "display_data"
    }
   ],
   "source": [
    "# Plot the normalization factor versus time\n",
    "plt.plot(normalize_data[:,0], normalize_data[:,1])\n",
    "plt.xlabel('time [ms]')\n",
    "plt.ylabel('normalization')\n",
    "plt.show()"
   ]
  },
  {
   "cell_type": "code",
   "execution_count": 7,
   "metadata": {},
   "outputs": [],
   "source": [
    "# Setup a script to load the non-normalized flux in the 'sn_flux' folder and times the normalization factor\n",
    "flux = np.loadtxt(inDir + '/rf' + str(normalize_data[0,0]) + '.dat')"
   ]
  },
  {
   "cell_type": "code",
   "execution_count": 8,
   "metadata": {},
   "outputs": [
    {
     "data": {
      "image/png": "[encoded data removed]",
      "text/plain": [
       "<Figure size 432x288 with 1 Axes>"
      ]
     },
     "metadata": {
      "needs_background": "light"
     },
     "output_type": "display_data"
    }
   ],
   "source": [
    "plt.plot(flux[:,0], normalize_data[0,1]*flux[:,1], label = 'normalized')\n",
    "plt.plot(flux[:,0], flux[:,1], label = 'non-normalized')\n",
    "plt.xlabel('Energy [GeV]')\n",
    "plt.ylabel('flux')\n",
    "plt.title('rf1.8')\n",
    "plt.legend()\n",
    "plt.show()"
   ]
  },
  {
   "cell_type": "code",
   "execution_count": 9,
   "metadata": {},
   "outputs": [],
   "source": [
    "# Writing a batch script to correct all the flux with proper normalization factor and save it\n",
    "for i in range(len(normalize_data)):\n",
    "    # load the non-normalized flux rfx.x.dat in the 'flux' folder\n",
    "    # x.x is the time stamp of the flux given in the first column of the normalize_data\n",
    "    sn_flux = np.loadtxt(inDir + '/rf' + str(normalize_data[i,0]) + '.dat')\n",
    "\n",
    "    # Times the normalization factor to the flux\n",
    "    sn_flux[:,1:] = sn_flux[:,1:]*normalize_data[i,1]\n",
    "    \n",
    "    # Save the corrected flux to the new folder 'corrected_flux'\n",
    "    np.savetxt(outDir + '/rf' + str(normalize_data[i,0]) + '_normalized.dat', sn_flux, fmt='%.5e')\n",
    "    \n",
    "    # If the time stamp x.x > 5.98, there is no corresponding flux to be normalized,\n",
    "    # we should break the for-loop\n",
    "    # Some comment: Write down the if-else block to break the for-loop in the bottom of this script\n",
    "    # is not a quite good in my sense. One should move this if-else block to the top of this script.\n",
    "    # You should try to modify this if-else block and move it to the top.\n",
    "    if normalize_data[i,0]==5.98:\n",
    "        break\n",
    "    else:\n",
    "        pass\n",
    "    \n",
    "# After running this script, you should find the fluxes that are needed normalizations\n",
    "# in the 'normalized_flux' folder"
   ]
  },
  {
   "cell_type": "code",
   "execution_count": 10,
   "metadata": {},
   "outputs": [],
   "source": [
    "# Check our normalized flux\n",
    "norm_sn_flux = np.loadtxt(outDir + '/rf1.8_normalized.dat')"
   ]
  },
  {
   "cell_type": "code",
   "execution_count": 11,
   "metadata": {},
   "outputs": [
    {
     "data": {
      "image/png": "[encoded data removed]",
      "text/plain": [
       "<Figure size 432x288 with 1 Axes>"
      ]
     },
     "metadata": {
      "needs_background": "light"
     },
     "output_type": "display_data"
    }
   ],
   "source": [
    "# Plot the result, this figure must be the same as the last figure\n",
    "plt.plot(flux[:,0], norm_sn_flux[:,1], label = 'normalized')\n",
    "plt.plot(flux[:,0], flux[:,1], label = 'non-normalized')\n",
    "plt.xlabel('Energy [GeV]')\n",
    "plt.ylabel('flux')\n",
    "plt.title('rf1.8')\n",
    "plt.legend()\n",
    "plt.show()"
   ]
  },
  {
   "cell_type": "code",
   "execution_count": 12,
   "metadata": {},
   "outputs": [],
   "source": [
    "# # Copy the files which don't have to be normalized\n",
    "# # List all the input files\n",
    "# list = os.listdir(inDir)"
   ]
  },
  {
   "cell_type": "code",
   "execution_count": 13,
   "metadata": {},
   "outputs": [],
   "source": [
    "# for f in list:\n",
    "#     # if the file is the normalization factor file, skip it \n",
    "#     # (because I put this file in the same directory as the other flux files)\n",
    "#     if f[-3:] == 'txt':\n",
    "#         continue\n",
    "#     # if not, it is a flux file.  Check if the time slice is in the normalization factor file\n",
    "#     # if the time slice doesn't exist in the normalization factor file, copy the original file to the new directory\n",
    "#     if not f[2:-4] in str(normalize_data[:,0]):\n",
    "#         srcFile = inDir + '/' + f\n",
    "#         dstFile = outDir + '/' + f[:-4] + '_normalized.dat'\n",
    "#         command = 'cp ' + srcFile + ' ' + dstFile\n",
    "#         # print(command)\n",
    "#         os.system(command)"
   ]
  },
  {
   "cell_type": "code",
   "execution_count": 14,
   "metadata": {},
   "outputs": [],
   "source": [
    "# # Sanity check\n",
    "# flux2 = np.loadtxt(inDir + '/rf1.28.dat')\n",
    "# norm_sn_flux2 = np.loadtxt(outDir + '/rf1.28_normalized.dat')"
   ]
  },
  {
   "cell_type": "code",
   "execution_count": 15,
   "metadata": {},
   "outputs": [
    {
     "data": {
      "image/png": "[encoded data removed]",
      "text/plain": [
       "<Figure size 432x288 with 1 Axes>"
      ]
     },
     "metadata": {
      "needs_background": "light"
     },
     "output_type": "display_data"
    }
   ],
   "source": [
    "# # Plot the result, the two curves here should be identical since one is a copy of the other\n",
    "# plt.plot(flux2[:,0], norm_sn_flux2[:,1], label = 'normalized')\n",
    "# plt.plot(flux2[:,0], flux2[:,1], label = 'non-normalized')\n",
    "# plt.xlabel('Energy [GeV]')\n",
    "# plt.ylabel('flux')\n",
    "# plt.title('rf1.28')\n",
    "# plt.legend()\n",
    "# plt.show()"
   ]
  },
  {
   "cell_type": "code",
   "execution_count": null,
   "metadata": {},
   "outputs": [],
   "source": []
  }
 ],
 "metadata": {
  "kernelspec": {
   "display_name": "Python 3",
   "language": "python",
   "name": "python3"
  },
  "language_info": {
   "codemirror_mode": {
    "name": "ipython",
    "version": 3
   },
   "file_extension": ".py",
   "mimetype": "text/x-python",
   "name": "python",
   "nbconvert_exporter": "python",
   "pygments_lexer": "ipython3",
   "version": "3.7.6"
  }
 },
 "nbformat": 4,
 "nbformat_minor": 2
}
